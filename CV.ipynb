{
 "cells": [
  {
   "cell_type": "markdown",
   "id": "ac88ce54-6eac-42ad-a6b4-fef56277abb6",
   "metadata": {
    "slideshow": {
     "slide_type": "slide"
    }
   },
   "source": [
    "# Dillinger\n",
    "## _The Last Markdown Editor, Ever_"
   ]
  },
  {
   "cell_type": "markdown",
   "id": "71240ca0-98c5-4199-9109-695b92d42302",
   "metadata": {
    "slideshow": {
     "slide_type": "fragment"
    }
   },
   "source": [
    "[![N|Solid](https://cldup.com/dTxpPi9lDf.thumb.png)](https://nodesource.com/products/nsolid)"
   ]
  },
  {
   "cell_type": "markdown",
   "id": "2e45fb8b-60bd-4f40-89ed-2610be0f89c8",
   "metadata": {
    "slideshow": {
     "slide_type": "fragment"
    }
   },
   "source": [
    "[![Build Status](https://travis-ci.org/joemccann/dillinger.svg?branch=master)](https://travis-ci.org/joemccann/dillinger)"
   ]
  },
  {
   "cell_type": "markdown",
   "id": "b1418f1b-06e4-4ee3-a4f3-ab7e2461c5f0",
   "metadata": {
    "slideshow": {
     "slide_type": "subslide"
    }
   },
   "source": [
    "Dillinger is a cloud-enabled, mobile-ready, offline-storage compatible,\n",
    "AngularJS-powered HTML5 Markdown editor."
   ]
  },
  {
   "cell_type": "markdown",
   "id": "f6c27775-61cc-4b0a-99af-668f32fc833d",
   "metadata": {
    "slideshow": {
     "slide_type": "fragment"
    }
   },
   "source": [
    "- Type some Markdown on the left\n",
    "- See HTML in the right\n",
    "- ✨Magic ✨"
   ]
  },
  {
   "cell_type": "markdown",
   "id": "63e48b28-6986-4119-8031-ac6983c1381a",
   "metadata": {
    "slideshow": {
     "slide_type": "slide"
    }
   },
   "source": [
    "## Features"
   ]
  },
  {
   "cell_type": "markdown",
   "id": "26056858-3b71-4482-b75d-7c4018a57dc9",
   "metadata": {
    "slideshow": {
     "slide_type": "fragment"
    }
   },
   "source": [
    "- Import a HTML file and watch it magically convert to Markdown\n",
    "- Drag and drop images (requires your Dropbox account be linked)\n",
    "- Import and save files from GitHub, Dropbox, Google Drive and One Drive\n",
    "- Drag and drop markdown and HTML files into Dillinger\n",
    "- Export documents as Markdown, HTML and PDF"
   ]
  },
  {
   "cell_type": "markdown",
   "id": "d617f03e",
   "metadata": {
    "slideshow": {
     "slide_type": "slide"
    }
   },
   "source": [
    "# My Coolest Accomplishments"
   ]
  }
 ],
 "metadata": {
  "celltoolbar": "Slideshow",
  "kernelspec": {
   "display_name": "Python 3 (ipykernel)",
   "language": "python",
   "name": "python3"
  },
  "language_info": {
   "codemirror_mode": {
    "name": "ipython",
    "version": 3
   },
   "file_extension": ".py",
   "mimetype": "text/x-python",
   "name": "python",
   "nbconvert_exporter": "python",
   "pygments_lexer": "ipython3",
   "version": "3.10.4"
  }
 },
 "nbformat": 4,
 "nbformat_minor": 5
}
